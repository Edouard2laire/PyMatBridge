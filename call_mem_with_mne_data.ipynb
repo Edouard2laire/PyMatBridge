{
 "cells": [
  {
   "cell_type": "code",
   "execution_count": 1,
   "metadata": {},
   "outputs": [
    {
     "name": "stdout",
     "output_type": "stream",
     "text": [
      "range(1, 10)\n",
      "['hello' 'world' 'numpy' 'array']\n",
      "Function 'randn' not found\n",
      "Calling matlab function\n",
      "Starting matlab engine\n",
      "[[0.5376671395461,0.8621733203681206,-0.43359202230568356],[1.8338850145950865,0.3187652398589808,0.3426244665386499],[-2.258846861003648,-1.3076882963052734,3.5783969397257605]]\n",
      "Stopping matlab engine\n"
     ]
    }
   ],
   "source": [
    "from pymatbridge import PyMatBridge\n",
    "\n",
    "bridge = PyMatBridge()\n",
    "\n",
    "bridge.load_python_module('numpy', 'np')\n",
    "bridge.load_python_module('math')\n",
    "\n",
    "# Call pythons functions\n",
    "print(bridge.call(\"range\", 1, 10))  \n",
    "print(bridge.call(\"np.char.array\", ['hello', 'world', 'numpy','array'])) \n",
    "\n",
    "# Call matlab\n",
    "print(bridge.call(\"randn\",3 )) \n",
    "\n",
    "bridge.stop_matlab()"
   ]
  }
 ],
 "metadata": {
  "kernelspec": {
   "display_name": "mne_python",
   "language": "python",
   "name": "python3"
  },
  "language_info": {
   "codemirror_mode": {
    "name": "ipython",
    "version": 3
   },
   "file_extension": ".py",
   "mimetype": "text/x-python",
   "name": "python",
   "nbconvert_exporter": "python",
   "pygments_lexer": "ipython3",
   "version": "3.11.9"
  }
 },
 "nbformat": 4,
 "nbformat_minor": 2
}
