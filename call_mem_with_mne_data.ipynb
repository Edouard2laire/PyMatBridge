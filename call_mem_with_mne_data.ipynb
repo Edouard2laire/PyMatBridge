{
 "cells": [
  {
   "cell_type": "code",
   "execution_count": null,
   "metadata": {},
   "outputs": [
    {
     "name": "stdout",
     "output_type": "stream",
     "text": [
      "range(1, 10)\n"
     ]
    }
   ],
   "source": [
    "from pymatbridge import PyMatBridge\n",
    "\n",
    "bridge = PyMatBridge()\n",
    "\n",
    "bridge.load_python_module('numpy', 'np')\n",
    "bridge.load_python_module('math')\n",
    "\n",
    "# Call pythons functions\n",
    "print(bridge.call(\"range\", 1, 10))  \n",
    "print(bridge.call(\"numpy.char.array\", ['hello', 'world', 'numpy','array'])) \n",
    "\n"
   ]
  },
  {
   "cell_type": "code",
   "execution_count": null,
   "metadata": {},
   "outputs": [
    {
     "name": "stdout",
     "output_type": "stream",
     "text": [
      "['hello' 'world' 'numpy' 'array']\n"
     ]
    }
   ],
   "source": []
  }
 ],
 "metadata": {
  "kernelspec": {
   "display_name": "mne_python",
   "language": "python",
   "name": "python3"
  },
  "language_info": {
   "codemirror_mode": {
    "name": "ipython",
    "version": 3
   },
   "file_extension": ".py",
   "mimetype": "text/x-python",
   "name": "python",
   "nbconvert_exporter": "python",
   "pygments_lexer": "ipython3",
   "version": "3.11.9"
  }
 },
 "nbformat": 4,
 "nbformat_minor": 2
}
